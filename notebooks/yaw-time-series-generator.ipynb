{
 "cells": [
  {
   "cell_type": "markdown",
   "id": "713f9c15",
   "metadata": {},
   "source": [
    "# Yaw angle time-series generation from video frames using a pre-trained CNN Regressor\n",
    "\n",
    "## Overview\n",
    "\n",
    "This Jupyter notebook demonstrates how to load a pre-trained Convolutional Neural Network (CNN) regressor model and use it to predict the yaw angle from frames extracted from a video. The process involves splitting the video into frames at regular intervals, predicting the yaw value for each frame, and storing the results in a map structure.\n",
    "\n",
    "## Steps Involved\n",
    "\n",
    "### 1. Loading the Pre-trained Regressor Model\n",
    "The notebook begins by loading a pre-trained CNN regressor model that has been specifically trained to predict the yaw angle from an image of a head.\n",
    "\n",
    "### 2. Video Processing\n",
    "- **Video Splitting**: The video file is split into individual frames. Frames are captured every 0.2 seconds, allowing for consistent sampling across the video.\n",
    "- **Index Generation**: Each frame is assigned an index corresponding to the time in the video from which it was captured. This index is used to map each frame to its corresponding yaw prediction.\n",
    "\n",
    "### 3. Yaw Prediction\n",
    "For each frame extracted from the video:\n",
    "- The pre-trained regressor model is used to predict the yaw angle.\n",
    "- The predicted yaw value and the corresponding index are stored in a map structure.\n",
    "\n",
    "### 4. Output\n",
    "The final output of the notebook is a map where:\n",
    "- **Key**: The index of the frame (based on the time in the video).\n",
    "- **Value**: The predicted yaw angle for that frame.\n",
    "\n",
    "This output map provides a comprehensive view of the yaw angle variations throughout the video, allowing for further analysis or visualization.\n",
    "\n",
    "## Usage\n",
    "\n",
    "To use this notebook:\n",
    "1. Ensure that you have the pre-trained CNN regressor model available.\n",
    "2. Provide the path to the video file you wish to process.\n",
    "3. Run the notebook to generate the map of yaw predictions.\n",
    "\n",
    "The map can then be used for various applications, such as detecting head rotations or analyzing the head pose throughout the video.\n"
   ]
  },
  {
   "cell_type": "markdown",
   "id": "c330fcc6",
   "metadata": {},
   "source": [
    "## Import the neccesary dependencies"
   ]
  },
  {
   "cell_type": "code",
   "execution_count": 28,
   "id": "69cc2a23",
   "metadata": {},
   "outputs": [],
   "source": [
    "from tensorflow.keras.models import load_model\n",
    "import os\n",
    "from PIL import Image\n",
    "\n",
    "import subprocess\n",
    "import os\n",
    "import sys\n",
    "import fnmatch\n",
    "\n",
    "from tensorflow.keras.preprocessing.image import img_to_array, load_img\n",
    "import numpy as np\n",
    "\n",
    "import matplotlib.pyplot as plt"
   ]
  },
  {
   "cell_type": "markdown",
   "id": "aa052d4a",
   "metadata": {},
   "source": [
    "## Load the pretrained regressor model"
   ]
  },
  {
   "cell_type": "code",
   "execution_count": 33,
   "id": "bd1d29e2",
   "metadata": {
    "scrolled": true
   },
   "outputs": [],
   "source": [
    "model = load_model('../models/stable_yaw_angle_regressor.keras')"
   ]
  },
  {
   "cell_type": "markdown",
   "id": "5873078e",
   "metadata": {},
   "source": [
    "## Add some utility functions for image preprocessing"
   ]
  },
  {
   "cell_type": "code",
   "execution_count": 6,
   "id": "269a84a7",
   "metadata": {},
   "outputs": [],
   "source": [
    "def resize_image(image, size=(128, 128)):\n",
    "    return image.resize(size)\n",
    "\n",
    "def getImage(directory, filename):\n",
    "    file_path = os.path.join(directory, filename)\n",
    "\n",
    "    if os.path.isfile(file_path):\n",
    "        with Image.open(file_path) as img:\n",
    "            img = resize_image(img)\n",
    "            img_array = np.array(img, dtype=np.uint8)\n",
    "            return img_array\n",
    "        \n",
    "def preprocess_image(image_path, target_size=(128, 128)):\n",
    "    img = load_img(image_path, target_size=target_size)\n",
    "    img_array = img_to_array(img) / 255.0\n",
    "    img_array = img_array.astype(np.float32)\n",
    "    img_array = np.expand_dims(img_array, axis=0)\n",
    "    return img_array\n",
    "\n",
    "def plot_preprocessed_image(preprocessed_image):\n",
    "    if preprocessed_image.shape[0] == 1:\n",
    "        img_to_plot = preprocessed_image[0]\n",
    "    else:\n",
    "        img_to_plot = preprocessed_image\n",
    "\n",
    "    plt.imshow(img_to_plot)\n",
    "    plt.axis('off')\n",
    "    plt.show()"
   ]
  },
  {
   "cell_type": "markdown",
   "id": "7f1d45a5",
   "metadata": {},
   "source": [
    "## Read the input video and split it into frames"
   ]
  },
  {
   "cell_type": "code",
   "execution_count": 16,
   "id": "b984cacf",
   "metadata": {
    "scrolled": true
   },
   "outputs": [],
   "source": [
    "def extract_frames_ffmpeg(video_path, output_folder, interval=0.2):\n",
    "    if not os.path.exists(output_folder):\n",
    "        os.makedirs(output_folder)\n",
    "\n",
    "    fps = 1 / interval\n",
    "    command = [\n",
    "        'ffmpeg',\n",
    "        '-i', video_path,\n",
    "        '-vf', f'fps={fps}',\n",
    "        os.path.join(output_folder, 'frame_%04d.jpg')\n",
    "    ]\n",
    "\n",
    "  \n",
    "    subprocess.run(command, check=True)\n",
    "    print(f\"Frames extracted to {output_folder}\")\n",
    "\n",
    "def count_jpg_files(directory):\n",
    "    count = 0\n",
    "    for filename in os.listdir(directory):\n",
    "        if fnmatch.fnmatch(filename, '*.jpg'):\n",
    "            count += 1\n",
    "    return count"
   ]
  },
  {
   "cell_type": "code",
   "execution_count": 36,
   "id": "81b820d0",
   "metadata": {
    "scrolled": false
   },
   "outputs": [
    {
     "name": "stderr",
     "output_type": "stream",
     "text": [
      "ffmpeg version 5.1.2 Copyright (c) 2000-2022 the FFmpeg developers\n",
      "  built with clang version 14.0.6\n",
      "  configuration: --prefix=/Users/runner/miniforge3/conda-bld/ffmpeg_1674566267822/_h_env_placehold_placehold_placehold_placehold_placehold_placehold_placehold_placehold_placehold_placehold_placehold_placehold_placehold_placehold_placehold_placehold_placehold_placehold_placehold_pl --cc=arm64-apple-darwin20.0.0-clang --cxx=arm64-apple-darwin20.0.0-clang++ --nm=arm64-apple-darwin20.0.0-nm --ar=arm64-apple-darwin20.0.0-ar --disable-doc --disable-openssl --enable-demuxer=dash --enable-hardcoded-tables --enable-libfreetype --enable-libfontconfig --enable-libopenh264 --enable-cross-compile --arch=arm64 --target-os=darwin --cross-prefix=arm64-apple-darwin20.0.0- --host-cc=/Users/runner/miniforge3/conda-bld/ffmpeg_1674566267822/_build_env/bin/x86_64-apple-darwin13.4.0-clang --enable-neon --enable-gnutls --enable-libmp3lame --enable-libvpx --enable-pthreads --enable-gpl --enable-libx264 --enable-libx265 --enable-libaom --enable-libsvtav1 --enable-libxml2 --enable-pic --enable-shared --disable-static --enable-version3 --enable-zlib --enable-libopus --pkg-config=/Users/runner/miniforge3/conda-bld/ffmpeg_1674566267822/_build_env/bin/pkg-config\n",
      "  libavutil      57. 28.100 / 57. 28.100\n",
      "  libavcodec     59. 37.100 / 59. 37.100\n",
      "  libavformat    59. 27.100 / 59. 27.100\n",
      "  libavdevice    59.  7.100 / 59.  7.100\n",
      "  libavfilter     8. 44.100 /  8. 44.100\n",
      "  libswscale      6.  7.100 /  6.  7.100\n",
      "  libswresample   4.  7.100 /  4.  7.100\n",
      "  libpostproc    56.  6.100 / 56.  6.100\n",
      "Input #0, mov,mp4,m4a,3gp,3g2,mj2, from 'video/face2.mp4':\n",
      "  Metadata:\n",
      "    major_brand     : isom\n",
      "    minor_version   : 512\n",
      "    compatible_brands: isomiso2avc1mp41\n",
      "    encoder         : Lavf59.27.100\n",
      "  Duration: 00:00:10.24, start: 0.000000, bitrate: 3648 kb/s\n",
      "  Stream #0:0[0x1](und): Video: h264 (High) (avc1 / 0x31637661), yuv420p(tv, bt709, progressive), 1620x1080, 3585 kb/s, 30 fps, 30 tbr, 15360 tbn (default)\n",
      "    Metadata:\n",
      "      handler_name    : Core Media Video\n",
      "      vendor_id       : [0][0][0][0]\n",
      "      encoder         : Lavc59.37.100 libx264\n",
      "  Stream #0:1[0x2](und): Audio: aac (LC) (mp4a / 0x6134706D), 44100 Hz, mono, fltp, 69 kb/s (default)\n",
      "    Metadata:\n",
      "      handler_name    : Core Media Audio\n",
      "      vendor_id       : [0][0][0][0]\n",
      "Stream mapping:\n",
      "  Stream #0:0 -> #0:0 (h264 (native) -> mjpeg (native))\n",
      "Press [q] to stop, [?] for help\n",
      "[swscaler @ 0x138d30000] [swscaler @ 0x138d40000] deprecated pixel format used, make sure you did set range correctly\n",
      "[swscaler @ 0x138d30000] [swscaler @ 0x118190000] deprecated pixel format used, make sure you did set range correctly\n",
      "[swscaler @ 0x138d30000] [swscaler @ 0x118170000] deprecated pixel format used, make sure you did set range correctly\n",
      "[swscaler @ 0x138d30000] [swscaler @ 0x118180000] deprecated pixel format used, make sure you did set range correctly\n",
      "[swscaler @ 0x138d30000] [swscaler @ 0x1191b0000] deprecated pixel format used, make sure you did set range correctly\n",
      "[swscaler @ 0x138d30000] [swscaler @ 0x1191c0000] deprecated pixel format used, make sure you did set range correctly\n",
      "[swscaler @ 0x138d30000] [swscaler @ 0x1191d0000] deprecated pixel format used, make sure you did set range correctly\n",
      "[swscaler @ 0x138d30000] [swscaler @ 0x178008000] deprecated pixel format used, make sure you did set range correctly\n",
      "[swscaler @ 0x138d30000] [swscaler @ 0x178018000] deprecated pixel format used, make sure you did set range correctly\n",
      "[swscaler @ 0x138d30000] [swscaler @ 0x178028000] deprecated pixel format used, make sure you did set range correctly\n",
      "[swscaler @ 0x138d30000] [swscaler @ 0x178038000] deprecated pixel format used, make sure you did set range correctly\n",
      "[swscaler @ 0x1484f0000] [swscaler @ 0x1191d0000] deprecated pixel format used, make sure you did set range correctly\n",
      "[swscaler @ 0x1484f0000] [swscaler @ 0x1191e0000] deprecated pixel format used, make sure you did set range correctly\n",
      "[swscaler @ 0x1484f0000] [swscaler @ 0x178038000] deprecated pixel format used, make sure you did set range correctly\n",
      "[swscaler @ 0x1484f0000] [swscaler @ 0x178048000] deprecated pixel format used, make sure you did set range correctly\n",
      "[swscaler @ 0x1484f0000] [swscaler @ 0x178008000] deprecated pixel format used, make sure you did set range correctly\n",
      "[swscaler @ 0x1484f0000] [swscaler @ 0x178018000] deprecated pixel format used, make sure you did set range correctly\n",
      "[swscaler @ 0x1484f0000] [swscaler @ 0x178028000] deprecated pixel format used, make sure you did set range correctly\n",
      "[swscaler @ 0x1484f0000] [swscaler @ 0x178058000] deprecated pixel format used, make sure you did set range correctly\n",
      "[swscaler @ 0x1484f0000] [swscaler @ 0x178068000] deprecated pixel format used, make sure you did set range correctly\n",
      "[swscaler @ 0x1484f0000] [swscaler @ 0x178078000] deprecated pixel format used, make sure you did set range correctly\n",
      "[swscaler @ 0x1484f0000] [swscaler @ 0x178088000] deprecated pixel format used, make sure you did set range correctly\n",
      "[swscaler @ 0x178088000] [swscaler @ 0x178098000] deprecated pixel format used, make sure you did set range correctly\n",
      "[swscaler @ 0x178088000] [swscaler @ 0x178008000] deprecated pixel format used, make sure you did set range correctly\n",
      "[swscaler @ 0x178088000] [swscaler @ 0x178018000] deprecated pixel format used, make sure you did set range correctly\n",
      "[swscaler @ 0x178088000] [swscaler @ 0x178028000] deprecated pixel format used, make sure you did set range correctly\n",
      "[swscaler @ 0x178088000] [swscaler @ 0x178038000] deprecated pixel format used, make sure you did set range correctly\n",
      "[swscaler @ 0x178088000] [swscaler @ 0x178048000] deprecated pixel format used, make sure you did set range correctly\n",
      "[swscaler @ 0x178088000] [swscaler @ 0x178058000] deprecated pixel format used, make sure you did set range correctly\n",
      "[swscaler @ 0x178088000] [swscaler @ 0x178068000] deprecated pixel format used, make sure you did set range correctly\n",
      "[swscaler @ 0x178088000] [swscaler @ 0x178078000] deprecated pixel format used, make sure you did set range correctly\n",
      "[swscaler @ 0x178088000] [swscaler @ 0x1780a8000] deprecated pixel format used, make sure you did set range correctly\n",
      "[swscaler @ 0x178088000] [swscaler @ 0x1780b8000] deprecated pixel format used, make sure you did set range correctly\n",
      "[swscaler @ 0x178088000] [swscaler @ 0x130668000] deprecated pixel format used, make sure you did set range correctly\n",
      "[swscaler @ 0x178088000] [swscaler @ 0x130678000] deprecated pixel format used, make sure you did set range correctly\n",
      "[swscaler @ 0x178088000] [swscaler @ 0x130688000] deprecated pixel format used, make sure you did set range correctly\n",
      "[swscaler @ 0x178088000] [swscaler @ 0x130698000] deprecated pixel format used, make sure you did set range correctly\n",
      "[swscaler @ 0x178088000] [swscaler @ 0x1306a8000] deprecated pixel format used, make sure you did set range correctly\n",
      "[swscaler @ 0x178088000] [swscaler @ 0x1306b8000] deprecated pixel format used, make sure you did set range correctly\n",
      "[swscaler @ 0x178088000] [swscaler @ 0x1306c8000] deprecated pixel format used, make sure you did set range correctly\n",
      "[swscaler @ 0x178088000] [swscaler @ 0x1306d8000] deprecated pixel format used, make sure you did set range correctly\n",
      "[swscaler @ 0x178088000] [swscaler @ 0x1306e8000] deprecated pixel format used, make sure you did set range correctly\n",
      "[swscaler @ 0x178088000] [swscaler @ 0x1306f8000] deprecated pixel format used, make sure you did set range correctly\n",
      "[swscaler @ 0x178088000] [swscaler @ 0x130708000] deprecated pixel format used, make sure you did set range correctly\n",
      "Output #0, image2, to 'video/frames/frame_%04d.jpg':\n",
      "  Metadata:\n",
      "    major_brand     : isom\n",
      "    minor_version   : 512\n",
      "    compatible_brands: isomiso2avc1mp41\n",
      "    encoder         : Lavf59.27.100\n",
      "  Stream #0:0(und): Video: mjpeg, yuvj420p(pc, bt709, progressive), 1620x1080, q=2-31, 200 kb/s, 5 fps, 5 tbn (default)\n",
      "    Metadata:\n",
      "      handler_name    : Core Media Video\n",
      "      vendor_id       : [0][0][0][0]\n",
      "      encoder         : Lavc59.37.100 mjpeg\n",
      "    Side data:\n",
      "      cpb: bitrate max/min/avg: 0/0/200000 buffer size: 0 vbv_delay: N/A\n",
      "frame=    1 fps=0.0 q=5.5 size=N/A time=00:00:00.20 bitrate=N/A speed=16.8x    \r"
     ]
    },
    {
     "name": "stdout",
     "output_type": "stream",
     "text": [
      "Frames extracted to video/frames\n"
     ]
    },
    {
     "name": "stderr",
     "output_type": "stream",
     "text": [
      "frame=   51 fps=0.0 q=24.8 Lsize=N/A time=00:00:10.20 bitrate=N/A speed=26.5x    \n",
      "video:1774kB audio:0kB subtitle:0kB other streams:0kB global headers:0kB muxing overhead: unknown\n"
     ]
    }
   ],
   "source": [
    "video_input_path = 'video/face2.mp4'\n",
    "output_frames_path = 'video/frames'\n",
    "extract_frames_ffmpeg(video_input_path, output_frames_path)"
   ]
  },
  {
   "cell_type": "markdown",
   "id": "d9a748f0",
   "metadata": {},
   "source": [
    "## Infere yaw value predicted from the frames extracted from the video"
   ]
  },
  {
   "cell_type": "code",
   "execution_count": 37,
   "id": "ec6b2053",
   "metadata": {
    "scrolled": true
   },
   "outputs": [
    {
     "name": "stdout",
     "output_type": "stream",
     "text": [
      "\u001b[1m1/1\u001b[0m \u001b[32m━━━━━━━━━━━━━━━━━━━━\u001b[0m\u001b[37m\u001b[0m \u001b[1m0s\u001b[0m 122ms/step\n",
      "\u001b[1m1/1\u001b[0m \u001b[32m━━━━━━━━━━━━━━━━━━━━\u001b[0m\u001b[37m\u001b[0m \u001b[1m0s\u001b[0m 11ms/step\n",
      "\u001b[1m1/1\u001b[0m \u001b[32m━━━━━━━━━━━━━━━━━━━━\u001b[0m\u001b[37m\u001b[0m \u001b[1m0s\u001b[0m 10ms/step\n",
      "\u001b[1m1/1\u001b[0m \u001b[32m━━━━━━━━━━━━━━━━━━━━\u001b[0m\u001b[37m\u001b[0m \u001b[1m0s\u001b[0m 11ms/step\n",
      "\u001b[1m1/1\u001b[0m \u001b[32m━━━━━━━━━━━━━━━━━━━━\u001b[0m\u001b[37m\u001b[0m \u001b[1m0s\u001b[0m 10ms/step\n",
      "\u001b[1m1/1\u001b[0m \u001b[32m━━━━━━━━━━━━━━━━━━━━\u001b[0m\u001b[37m\u001b[0m \u001b[1m0s\u001b[0m 10ms/step\n",
      "\u001b[1m1/1\u001b[0m \u001b[32m━━━━━━━━━━━━━━━━━━━━\u001b[0m\u001b[37m\u001b[0m \u001b[1m0s\u001b[0m 10ms/step\n",
      "\u001b[1m1/1\u001b[0m \u001b[32m━━━━━━━━━━━━━━━━━━━━\u001b[0m\u001b[37m\u001b[0m \u001b[1m0s\u001b[0m 10ms/step\n",
      "\u001b[1m1/1\u001b[0m \u001b[32m━━━━━━━━━━━━━━━━━━━━\u001b[0m\u001b[37m\u001b[0m \u001b[1m0s\u001b[0m 10ms/step\n",
      "\u001b[1m1/1\u001b[0m \u001b[32m━━━━━━━━━━━━━━━━━━━━\u001b[0m\u001b[37m\u001b[0m \u001b[1m0s\u001b[0m 11ms/step\n",
      "\u001b[1m1/1\u001b[0m \u001b[32m━━━━━━━━━━━━━━━━━━━━\u001b[0m\u001b[37m\u001b[0m \u001b[1m0s\u001b[0m 11ms/step\n",
      "\u001b[1m1/1\u001b[0m \u001b[32m━━━━━━━━━━━━━━━━━━━━\u001b[0m\u001b[37m\u001b[0m \u001b[1m0s\u001b[0m 11ms/step\n",
      "\u001b[1m1/1\u001b[0m \u001b[32m━━━━━━━━━━━━━━━━━━━━\u001b[0m\u001b[37m\u001b[0m \u001b[1m0s\u001b[0m 11ms/step\n",
      "\u001b[1m1/1\u001b[0m \u001b[32m━━━━━━━━━━━━━━━━━━━━\u001b[0m\u001b[37m\u001b[0m \u001b[1m0s\u001b[0m 10ms/step\n",
      "\u001b[1m1/1\u001b[0m \u001b[32m━━━━━━━━━━━━━━━━━━━━\u001b[0m\u001b[37m\u001b[0m \u001b[1m0s\u001b[0m 11ms/step\n",
      "\u001b[1m1/1\u001b[0m \u001b[32m━━━━━━━━━━━━━━━━━━━━\u001b[0m\u001b[37m\u001b[0m \u001b[1m0s\u001b[0m 11ms/step\n",
      "\u001b[1m1/1\u001b[0m \u001b[32m━━━━━━━━━━━━━━━━━━━━\u001b[0m\u001b[37m\u001b[0m \u001b[1m0s\u001b[0m 10ms/step\n",
      "\u001b[1m1/1\u001b[0m \u001b[32m━━━━━━━━━━━━━━━━━━━━\u001b[0m\u001b[37m\u001b[0m \u001b[1m0s\u001b[0m 11ms/step\n",
      "\u001b[1m1/1\u001b[0m \u001b[32m━━━━━━━━━━━━━━━━━━━━\u001b[0m\u001b[37m\u001b[0m \u001b[1m0s\u001b[0m 11ms/step\n",
      "\u001b[1m1/1\u001b[0m \u001b[32m━━━━━━━━━━━━━━━━━━━━\u001b[0m\u001b[37m\u001b[0m \u001b[1m0s\u001b[0m 10ms/step\n",
      "\u001b[1m1/1\u001b[0m \u001b[32m━━━━━━━━━━━━━━━━━━━━\u001b[0m\u001b[37m\u001b[0m \u001b[1m0s\u001b[0m 10ms/step\n",
      "\u001b[1m1/1\u001b[0m \u001b[32m━━━━━━━━━━━━━━━━━━━━\u001b[0m\u001b[37m\u001b[0m \u001b[1m0s\u001b[0m 11ms/step\n",
      "\u001b[1m1/1\u001b[0m \u001b[32m━━━━━━━━━━━━━━━━━━━━\u001b[0m\u001b[37m\u001b[0m \u001b[1m0s\u001b[0m 11ms/step\n",
      "\u001b[1m1/1\u001b[0m \u001b[32m━━━━━━━━━━━━━━━━━━━━\u001b[0m\u001b[37m\u001b[0m \u001b[1m0s\u001b[0m 11ms/step\n",
      "\u001b[1m1/1\u001b[0m \u001b[32m━━━━━━━━━━━━━━━━━━━━\u001b[0m\u001b[37m\u001b[0m \u001b[1m0s\u001b[0m 10ms/step\n",
      "\u001b[1m1/1\u001b[0m \u001b[32m━━━━━━━━━━━━━━━━━━━━\u001b[0m\u001b[37m\u001b[0m \u001b[1m0s\u001b[0m 11ms/step\n",
      "\u001b[1m1/1\u001b[0m \u001b[32m━━━━━━━━━━━━━━━━━━━━\u001b[0m\u001b[37m\u001b[0m \u001b[1m0s\u001b[0m 11ms/step\n",
      "\u001b[1m1/1\u001b[0m \u001b[32m━━━━━━━━━━━━━━━━━━━━\u001b[0m\u001b[37m\u001b[0m \u001b[1m0s\u001b[0m 10ms/step\n",
      "\u001b[1m1/1\u001b[0m \u001b[32m━━━━━━━━━━━━━━━━━━━━\u001b[0m\u001b[37m\u001b[0m \u001b[1m0s\u001b[0m 11ms/step\n",
      "\u001b[1m1/1\u001b[0m \u001b[32m━━━━━━━━━━━━━━━━━━━━\u001b[0m\u001b[37m\u001b[0m \u001b[1m0s\u001b[0m 11ms/step\n",
      "\u001b[1m1/1\u001b[0m \u001b[32m━━━━━━━━━━━━━━━━━━━━\u001b[0m\u001b[37m\u001b[0m \u001b[1m0s\u001b[0m 11ms/step\n",
      "\u001b[1m1/1\u001b[0m \u001b[32m━━━━━━━━━━━━━━━━━━━━\u001b[0m\u001b[37m\u001b[0m \u001b[1m0s\u001b[0m 11ms/step\n",
      "\u001b[1m1/1\u001b[0m \u001b[32m━━━━━━━━━━━━━━━━━━━━\u001b[0m\u001b[37m\u001b[0m \u001b[1m0s\u001b[0m 11ms/step\n",
      "\u001b[1m1/1\u001b[0m \u001b[32m━━━━━━━━━━━━━━━━━━━━\u001b[0m\u001b[37m\u001b[0m \u001b[1m0s\u001b[0m 11ms/step\n",
      "\u001b[1m1/1\u001b[0m \u001b[32m━━━━━━━━━━━━━━━━━━━━\u001b[0m\u001b[37m\u001b[0m \u001b[1m0s\u001b[0m 11ms/step\n",
      "\u001b[1m1/1\u001b[0m \u001b[32m━━━━━━━━━━━━━━━━━━━━\u001b[0m\u001b[37m\u001b[0m \u001b[1m0s\u001b[0m 11ms/step\n",
      "\u001b[1m1/1\u001b[0m \u001b[32m━━━━━━━━━━━━━━━━━━━━\u001b[0m\u001b[37m\u001b[0m \u001b[1m0s\u001b[0m 10ms/step\n",
      "\u001b[1m1/1\u001b[0m \u001b[32m━━━━━━━━━━━━━━━━━━━━\u001b[0m\u001b[37m\u001b[0m \u001b[1m0s\u001b[0m 11ms/step\n",
      "\u001b[1m1/1\u001b[0m \u001b[32m━━━━━━━━━━━━━━━━━━━━\u001b[0m\u001b[37m\u001b[0m \u001b[1m0s\u001b[0m 11ms/step\n",
      "\u001b[1m1/1\u001b[0m \u001b[32m━━━━━━━━━━━━━━━━━━━━\u001b[0m\u001b[37m\u001b[0m \u001b[1m0s\u001b[0m 11ms/step\n",
      "\u001b[1m1/1\u001b[0m \u001b[32m━━━━━━━━━━━━━━━━━━━━\u001b[0m\u001b[37m\u001b[0m \u001b[1m0s\u001b[0m 11ms/step\n",
      "\u001b[1m1/1\u001b[0m \u001b[32m━━━━━━━━━━━━━━━━━━━━\u001b[0m\u001b[37m\u001b[0m \u001b[1m0s\u001b[0m 11ms/step\n",
      "\u001b[1m1/1\u001b[0m \u001b[32m━━━━━━━━━━━━━━━━━━━━\u001b[0m\u001b[37m\u001b[0m \u001b[1m0s\u001b[0m 11ms/step\n",
      "\u001b[1m1/1\u001b[0m \u001b[32m━━━━━━━━━━━━━━━━━━━━\u001b[0m\u001b[37m\u001b[0m \u001b[1m0s\u001b[0m 10ms/step\n",
      "\u001b[1m1/1\u001b[0m \u001b[32m━━━━━━━━━━━━━━━━━━━━\u001b[0m\u001b[37m\u001b[0m \u001b[1m0s\u001b[0m 10ms/step\n",
      "\u001b[1m1/1\u001b[0m \u001b[32m━━━━━━━━━━━━━━━━━━━━\u001b[0m\u001b[37m\u001b[0m \u001b[1m0s\u001b[0m 10ms/step\n",
      "\u001b[1m1/1\u001b[0m \u001b[32m━━━━━━━━━━━━━━━━━━━━\u001b[0m\u001b[37m\u001b[0m \u001b[1m0s\u001b[0m 11ms/step\n",
      "\u001b[1m1/1\u001b[0m \u001b[32m━━━━━━━━━━━━━━━━━━━━\u001b[0m\u001b[37m\u001b[0m \u001b[1m0s\u001b[0m 10ms/step\n",
      "\u001b[1m1/1\u001b[0m \u001b[32m━━━━━━━━━━━━━━━━━━━━\u001b[0m\u001b[37m\u001b[0m \u001b[1m0s\u001b[0m 10ms/step\n",
      "\u001b[1m1/1\u001b[0m \u001b[32m━━━━━━━━━━━━━━━━━━━━\u001b[0m\u001b[37m\u001b[0m \u001b[1m0s\u001b[0m 11ms/step\n"
     ]
    }
   ],
   "source": [
    "predictions_map = {}\n",
    "number_of_frames = count_jpg_files(output_frames_path)\n",
    "starting_index = 0.2\n",
    "\n",
    "for i in range(1, number_of_frames):\n",
    "    if (i < 10):\n",
    "        path = f'{output_frames_path}/frame_000{i}.jpg'\n",
    "    else:\n",
    "        path = f'{output_frames_path}/frame_00{i}.jpg'\n",
    "    \n",
    "    preprocessed_image = preprocess_image(path)\n",
    "    yaw_prediction = model.predict(preprocessed_image)\n",
    "    \n",
    "    index = starting_index * i\n",
    "    predictions_map[index] = yaw_prediction[0][0]"
   ]
  },
  {
   "cell_type": "markdown",
   "id": "1d9a07fe",
   "metadata": {},
   "source": [
    "## Plot the predictions map\n",
    "It should show a sinusoidal-ish graph, since the video has a person rorating their face from one side to the other"
   ]
  },
  {
   "cell_type": "code",
   "execution_count": 38,
   "id": "708de587",
   "metadata": {},
   "outputs": [
    {
     "name": "stdout",
     "output_type": "stream",
     "text": [
      "{0.2: 3.656726, 0.4: 3.1144602, 0.6000000000000001: 3.546911, 0.8: 3.6577039, 1.0: 11.964856, 1.2000000000000002: 17.873423, 1.4000000000000001: 18.166483, 1.6: 18.349371, 1.8: 19.971073, 2.0: 16.77458, 2.2: 21.979391, 2.4000000000000004: 19.965542, 2.6: 19.677303, 2.8000000000000003: 6.381784, 3.0: 9.820981, 3.2: 8.400116, 3.4000000000000004: 8.426596, 3.6: 6.2372966, 3.8000000000000003: 7.950895, 4.0: 6.4219823, 4.2: 6.394048, 4.4: 5.8880568, 4.6000000000000005: 5.868197, 4.800000000000001: 6.2909064, 5.0: 1.6750643, 5.2: 7.3736625, 5.4: 17.891846, 5.6000000000000005: 19.232447, 5.800000000000001: 22.017963, 6.0: 17.674093, 6.2: 16.985455, 6.4: 16.376997, 6.6000000000000005: 16.396362, 6.800000000000001: 16.338333, 7.0: 17.114092, 7.2: 8.680025, 7.4: 9.172808, 7.6000000000000005: 9.178544, 7.800000000000001: 7.429461, 8.0: 8.059247, 8.200000000000001: 7.59325, 8.4: 8.45055, 8.6: 8.174861, 8.8: 8.502427, 9.0: 8.41412, 9.200000000000001: 4.6104126, 9.4: 1.7861786, 9.600000000000001: 4.8285484, 9.8: 6.523864, 10.0: 4.684122}\n"
     ]
    },
    {
     "data": {
      "image/png": "[encoded data removed]",
      "text/plain": [
       "<Figure size 640x480 with 1 Axes>"
      ]
     },
     "metadata": {},
     "output_type": "display_data"
    }
   ],
   "source": [
    "x = list(predictions_map.keys())\n",
    "y = list(predictions_map.values())\n",
    "\n",
    "print(predictions_map)\n",
    "\n",
    "plt.plot(x, y, marker='o')\n",
    "plt.xlabel('Time')\n",
    "plt.ylabel('Yaw value')\n",
    "plt.title('Yaw values across the time')\n",
    "plt.grid(True)\n",
    "plt.show()"
   ]
  }
 ],
 "metadata": {
  "kernelspec": {
   "display_name": "Python 3 (ipykernel)",
   "language": "python",
   "name": "python3"
  },
  "language_info": {
   "codemirror_mode": {
    "name": "ipython",
    "version": 3
   },
   "file_extension": ".py",
   "mimetype": "text/x-python",
   "name": "python",
   "nbconvert_exporter": "python",
   "pygments_lexer": "ipython3",
   "version": "3.10.9"
  }
 },
 "nbformat": 4,
 "nbformat_minor": 5
}
