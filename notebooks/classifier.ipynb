{
 "cells": [
  {
   "cell_type": "markdown",
   "id": "584a3368",
   "metadata": {},
   "source": [
    "# Yaw Angle Pattern Classifier\n",
    "\n",
    "## Overview\n",
    "\n",
    "This notebook implements a machine learning-based classifier designed to detect specific patterns in the yaw angle data of human head movements extracted from video frames. The classifier identifies whether the person in the video is rotating their head from one side to the other based on the yaw angles predicted by a Convolutional Neural Network (CNN) model.\n",
    "\n",
    "## Workflow\n",
    "\n",
    "### 1. Data Collection\n",
    "\n",
    "The yaw angles are predicted for each frame of a video using a pre-trained CNN model. The output is a map where:\n",
    "- **Key**: Index given by the minute and second of the frame.\n",
    "- **Value**: A numeric value representing the yaw angle of the face.\n",
    "\n",
    "Example output:\n",
    "```json\n",
    "{\n",
    "  \"0.2\": \"-90\",\n",
    "  \"0.4\": \"-85\",\n",
    "  \"0.6\": \"-60\",\n",
    "  \"0.8\": \"-45\",\n",
    "  ...\n",
    "  \"3.0\": \"65\",\n",
    "  \"3.2\": \"75\",\n",
    "  \"3.4\": \"87\",\n",
    "  \"3.6\": \"90\"\n",
    "}\n",
    "```\n",
    "\n",
    "### Features\n",
    "* __Number of Peaks__: Count the number of local maxima in the sequence.\n",
    "* __Amplitude of Peaks and Troughs__: Measure the difference between the maximum and minimum yaw angles.\n",
    "* __Average Yaw__: Compute the mean yaw angle across the sequence.\n",
    "* __Frequency of Peaks__: Calculate the frequency at which peaks occur.\n",
    "* __Yaw Range__: Calculate the range (maximum - minimum) of yaw angles.\n",
    "* __Standard Deviation__: Compute the standard deviation of yaw angles to capture the variability.\n"
   ]
  },
  {
   "cell_type": "markdown",
   "id": "b478bc92",
   "metadata": {},
   "source": [
    "## Import the neccesary dependencies"
   ]
  },
  {
   "cell_type": "code",
   "execution_count": 2,
   "id": "3c9cc8c4",
   "metadata": {},
   "outputs": [],
   "source": [
    "import numpy as np\n",
    "import pandas as pd\n",
    "from scipy.signal import find_peaks\n",
    "from sklearn.ensemble import RandomForestClassifier\n",
    "from sklearn.model_selection import train_test_split\n",
    "from sklearn.metrics import accuracy_score"
   ]
  },
  {
   "cell_type": "markdown",
   "id": "cf467800",
   "metadata": {},
   "source": [
    "## Extract example features"
   ]
  },
  {
   "cell_type": "code",
   "execution_count": 3,
   "id": "d40dbb1f",
   "metadata": {},
   "outputs": [],
   "source": [
    "def getFeatureVectorWithLabel(yaw_df):\n",
    "    yaw_values = yaw_df.iloc[:, :-1].to_numpy()\n",
    "    labs = yaw_df[\"label\"]\n",
    "    \n",
    "    num_peaks_list = []\n",
    "    num_troughs_list = []\n",
    "    amplitude_peaks_list = []\n",
    "    average_yaw_list = []\n",
    "    yaw_range_list = []\n",
    "    std_yaw_list = []\n",
    "    labels = []\n",
    "\n",
    "    for i, row in enumerate(yaw_values):\n",
    "        \n",
    "        peaks, _ = find_peaks(row)\n",
    "        troughs, _ = find_peaks(-row)\n",
    "\n",
    "        num_peaks = len(peaks)\n",
    "        num_troughs = len(troughs)\n",
    "        amplitude_peaks = row[peaks].max() - row[troughs].min() if peaks.size > 0 and troughs.size > 0 else np.nan\n",
    "        average_yaw = np.mean(row)\n",
    "        yaw_range = np.ptp(row)  # Peak-to-peak range\n",
    "        std_yaw = np.std(row)\n",
    "\n",
    "        num_peaks_list.append(num_peaks)\n",
    "        num_troughs_list.append(num_troughs)\n",
    "        amplitude_peaks_list.append(amplitude_peaks)\n",
    "        average_yaw_list.append(average_yaw)\n",
    "        yaw_range_list.append(yaw_range)\n",
    "        std_yaw_list.append(std_yaw)\n",
    "        labels.append(labs.iloc[i])\n",
    "\n",
    "    df = pd.DataFrame({\n",
    "        'num_peaks': num_peaks_list,\n",
    "        'num_troughs': num_troughs_list,\n",
    "        'amplitude_peaks': amplitude_peaks_list,\n",
    "        'average_yaw': average_yaw_list,\n",
    "        'yaw_range': yaw_range_list,\n",
    "        'std_yaw': std_yaw_list,\n",
    "        'label': labels\n",
    "    })\n",
    "    \n",
    "    return df\n",
    "\n",
    "\n",
    "def getFeatureVector(yaw_df):\n",
    "    yaw_values = yaw_df.iloc[:, :-1].to_numpy()\n",
    "    \n",
    "    num_peaks_list = []\n",
    "    num_troughs_list = []\n",
    "    amplitude_peaks_list = []\n",
    "    average_yaw_list = []\n",
    "    yaw_range_list = []\n",
    "    std_yaw_list = []\n",
    "\n",
    "    for i, row in enumerate(yaw_values):\n",
    "        \n",
    "        peaks, _ = find_peaks(row)\n",
    "        troughs, _ = find_peaks(-row)\n",
    "\n",
    "        num_peaks = len(peaks)\n",
    "        num_troughs = len(troughs)\n",
    "        amplitude_peaks = row[peaks].max() - row[troughs].min() if peaks.size > 0 and troughs.size > 0 else np.nan\n",
    "        average_yaw = np.mean(row)\n",
    "        yaw_range = np.ptp(row)  # Peak-to-peak range\n",
    "        std_yaw = np.std(row)\n",
    "\n",
    "        num_peaks_list.append(num_peaks)\n",
    "        num_troughs_list.append(num_troughs)\n",
    "        amplitude_peaks_list.append(amplitude_peaks)\n",
    "        average_yaw_list.append(average_yaw)\n",
    "        yaw_range_list.append(yaw_range)\n",
    "        std_yaw_list.append(std_yaw)\n",
    "\n",
    "    df = pd.DataFrame({\n",
    "        'num_peaks': num_peaks_list,\n",
    "        'num_troughs': num_troughs_list,\n",
    "        'amplitude_peaks': amplitude_peaks_list,\n",
    "        'average_yaw': average_yaw_list,\n",
    "        'yaw_range': yaw_range_list,\n",
    "        'std_yaw': std_yaw_list\n",
    "    })\n",
    "    \n",
    "    return df\n"
   ]
  },
  {
   "cell_type": "code",
   "execution_count": 4,
   "id": "b982c503",
   "metadata": {},
   "outputs": [
    {
     "name": "stdout",
     "output_type": "stream",
     "text": [
      "Feature vector: [6, 5, 24.355405, 10.943544628461542, 27.386533999999997, 8.962988566088272]\n"
     ]
    }
   ],
   "source": [
    "yaw_data = {\n",
    "  \"0.2\": 2.5284867,\n",
    "  \"0.4\": 2.749594,\n",
    "  \"0.6000000000000001\": 2.1379437,\n",
    "  \"0.8\": 1.7823929,\n",
    "  \"1.0\": 1.6482912,\n",
    "  \"1.2000000000000002\": 5.0864453,\n",
    "  \"1.4000000000000001\": 14.992984,\n",
    "  \"1.6\": 16.431183,\n",
    "  \"1.8\": 16.039757,\n",
    "  \"2.0\": 16.063456,\n",
    "  \"2.2\": 12.145712,\n",
    "  \"2.4000000000000004\": 1.3173454,\n",
    "  \"2.6\": -1.07616,\n",
    "  \"2.8000000000000003\": -0.4528833,\n",
    "  \"3.0\": 0.51127344,\n",
    "  \"3.2\": 13.553554,\n",
    "  \"3.4000000000000004\": 19.458012,\n",
    "  \"3.6\": 18.421278,\n",
    "  \"3.8000000000000003\": 22.45929,\n",
    "  \"4.0\": 22.07545,\n",
    "  \"4.2\": 22.521818,\n",
    "  \"4.4\": 23.279245,\n",
    "  \"4.6000000000000005\": 21.392345,\n",
    "  \"4.800000000000001\": 19.092186,\n",
    "  \"5.0\": 14.48045,\n",
    "  \"5.2\": -4.107289\n",
    "}\n",
    "\n",
    "yaw_values = np.array(list(yaw_data.values()))\n",
    "peaks, _ = find_peaks(yaw_values)\n",
    "troughs, _ = find_peaks(-yaw_values)\n",
    "num_peaks = len(peaks)\n",
    "num_troughs = len(troughs)\n",
    "amplitude_peaks = yaw_values[peaks].max() - yaw_values[troughs].min()\n",
    "average_yaw = np.mean(yaw_values)\n",
    "yaw_range = np.ptp(yaw_values)\n",
    "std_yaw = np.std(yaw_values)\n",
    "\n",
    "features = [num_peaks, num_troughs, amplitude_peaks, average_yaw, yaw_range, std_yaw]\n",
    "\n",
    "print(\"Feature vector:\", features)"
   ]
  },
  {
   "cell_type": "markdown",
   "id": "5c6d3615",
   "metadata": {},
   "source": [
    "## Build the classyfier"
   ]
  },
  {
   "cell_type": "code",
   "execution_count": 8,
   "id": "b0d0d803",
   "metadata": {},
   "outputs": [
    {
     "name": "stdout",
     "output_type": "stream",
     "text": [
      "Accuracy: 1.0\n"
     ]
    }
   ],
   "source": [
    "dataset = pd.read_csv('../dataset/combined.csv')\n",
    "\n",
    "data = getFeatureVectorWithLabel(dataset)\n",
    "features_dataset = data[[\"num_peaks\", \"num_troughs\", \"amplitude_peaks\", \"average_yaw\", \"yaw_range\", \"std_yaw\"]]\n",
    "labels = data[\"label\"]\n",
    "\n",
    "X_train, X_test, y_train, y_test = train_test_split(features_dataset, labels, test_size=0.3, random_state=42)\n",
    "\n",
    "clf = RandomForestClassifier()\n",
    "clf.fit(X_train, y_train)\n",
    "\n",
    "y_pred = clf.predict(X_test)\n",
    "\n",
    "# Evaluate the model\n",
    "accuracy = accuracy_score(y_test, y_pred)\n",
    "print(\"Accuracy:\", accuracy)"
   ]
  },
  {
   "cell_type": "markdown",
   "id": "d7634122",
   "metadata": {},
   "source": [
    "## Test the model"
   ]
  },
  {
   "cell_type": "code",
   "execution_count": 10,
   "id": "67d12f66",
   "metadata": {},
   "outputs": [
    {
     "data": {
      "text/plain": [
       "1"
      ]
     },
     "execution_count": 10,
     "metadata": {},
     "output_type": "execute_result"
    }
   ],
   "source": [
    "new_yaw_data = {\n",
    "    0.2: 3.656726, 0.4: 3.1144602, 0.6000000000000001: 3.546911, 0.8: 3.6577039, \n",
    "    1.0: 11.964856, 1.2000000000000002: 17.873423, 1.4000000000000001: 18.166483, \n",
    "    1.6: 18.349371, 1.8: 19.971073, 2.0: 16.77458, 2.2: 21.979391, \n",
    "    2.4000000000000004: 19.965542, 2.6: 19.677303, 2.8000000000000003: 6.381784, \n",
    "    3.0: 9.820981, 3.2: 8.400116, 3.4000000000000004: 8.426596, \n",
    "    3.6: 6.2372966, 3.8000000000000003: 7.950895, 4.0: 6.4219823, \n",
    "    4.2: 6.394048, 4.4: 5.8880568, 4.6000000000000005: 5.868197, \n",
    "    4.800000000000001: 6.2909064, 5.0: 1.6750643, 5.2: 7.3736625, \n",
    "    5.4: 17.891846, 5.6000000000000005: 19.232447, 5.800000000000001: 22.017963, \n",
    "    6.0: 17.674093, 6.2: 16.985455, 6.4: 16.376997, 6.6000000000000005: 16.396362, \n",
    "    6.800000000000001: 16.338333, 7.0: 17.114092, 7.2: 8.680025, \n",
    "    7.4: 9.172808, 7.6000000000000005: 9.178544, 7.800000000000001: 7.429461, \n",
    "    8.0: 8.059247, 8.200000000000001: 7.59325, 8.4: 8.45055, 8.6: 8.174861, \n",
    "    8.8: 8.502427, 9.0: 8.41412, 9.200000000000001: 4.6104126, \n",
    "    9.4: 1.7861786, 9.600000000000001: 4.8285484, 9.8: 6.523864, 10.0: 4.684122\n",
    "}\n",
    "\n",
    "# Convert the dictionary to a DataFrame\n",
    "df = pd.DataFrame([yaw_data])\n",
    "data = getFeatureVector(df)\n",
    "\n",
    "prediction = clf.predict(data)\n",
    "prediction[0]"
   ]
  }
 ],
 "metadata": {
  "kernelspec": {
   "display_name": "Python 3 (ipykernel)",
   "language": "python",
   "name": "python3"
  },
  "language_info": {
   "codemirror_mode": {
    "name": "ipython",
    "version": 3
   },
   "file_extension": ".py",
   "mimetype": "text/x-python",
   "name": "python",
   "nbconvert_exporter": "python",
   "pygments_lexer": "ipython3",
   "version": "3.10.9"
  }
 },
 "nbformat": 4,
 "nbformat_minor": 5
}
